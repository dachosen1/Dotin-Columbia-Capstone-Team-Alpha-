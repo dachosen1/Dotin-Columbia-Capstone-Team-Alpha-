{
 "cells": [
  {
   "cell_type": "markdown",
   "metadata": {},
   "source": [
    "# Custom LSTM"
   ]
  },
  {
   "cell_type": "markdown",
   "metadata": {},
   "source": [
    "https://nbviewer.jupyter.org/github/fastai/fastai/blob/master/examples/text.ipynb"
   ]
  },
  {
   "cell_type": "markdown",
   "metadata": {},
   "source": [
    "## **Notes:**\n",
    "- 12/02/2019 Implementation complete but results are pool better data (with actual angles and time consumed might help)"
   ]
  },
  {
   "cell_type": "code",
   "execution_count": 1,
   "metadata": {
    "ExecuteTime": {
     "end_time": "2019-12-03T01:44:27.269417Z",
     "start_time": "2019-12-03T01:44:26.744840Z"
    },
    "scrolled": false
   },
   "outputs": [
    {
     "data": {
      "text/html": [
       "<div>\n",
       "<style scoped>\n",
       "    .dataframe tbody tr th:only-of-type {\n",
       "        vertical-align: middle;\n",
       "    }\n",
       "\n",
       "    .dataframe tbody tr th {\n",
       "        vertical-align: top;\n",
       "    }\n",
       "\n",
       "    .dataframe thead th {\n",
       "        text-align: right;\n",
       "    }\n",
       "</style>\n",
       "<table border=\"1\" class=\"dataframe\">\n",
       "  <thead>\n",
       "    <tr style=\"text-align: right;\">\n",
       "      <th></th>\n",
       "      <th>Unnamed: 0</th>\n",
       "      <th>user_id</th>\n",
       "      <th>direction_list</th>\n",
       "      <th>system</th>\n",
       "    </tr>\n",
       "  </thead>\n",
       "  <tbody>\n",
       "    <tr>\n",
       "      <th>0</th>\n",
       "      <td>0</td>\n",
       "      <td>365</td>\n",
       "      <td>['SS 2.0 , SW 2.0 , SE 2.0 , SW 2.0 , SE 2.0 ,...</td>\n",
       "      <td>pc</td>\n",
       "    </tr>\n",
       "    <tr>\n",
       "      <th>1</th>\n",
       "      <td>1</td>\n",
       "      <td>371</td>\n",
       "      <td>['PageChange , SE 3.0 , PageChange , NW 1.0 , ...</td>\n",
       "      <td>pc</td>\n",
       "    </tr>\n",
       "    <tr>\n",
       "      <th>2</th>\n",
       "      <td>2</td>\n",
       "      <td>390</td>\n",
       "      <td>['PageChange , SW 1.0 , SE 6.0 , PageChange , ...</td>\n",
       "      <td>pc</td>\n",
       "    </tr>\n",
       "    <tr>\n",
       "      <th>3</th>\n",
       "      <td>3</td>\n",
       "      <td>376</td>\n",
       "      <td>['NE 1.0 , SW 1.0 , PageChange , SW 4.0 , Page...</td>\n",
       "      <td>pc</td>\n",
       "    </tr>\n",
       "    <tr>\n",
       "      <th>4</th>\n",
       "      <td>4</td>\n",
       "      <td>374</td>\n",
       "      <td>['SW 2.0 , SE 2.0 , SE 2.0 , SE 2.0 , SW 2.0 ,...</td>\n",
       "      <td>pc</td>\n",
       "    </tr>\n",
       "  </tbody>\n",
       "</table>\n",
       "</div>"
      ],
      "text/plain": [
       "   Unnamed: 0  user_id                                     direction_list  \\\n",
       "0           0      365  ['SS 2.0 , SW 2.0 , SE 2.0 , SW 2.0 , SE 2.0 ,...   \n",
       "1           1      371  ['PageChange , SE 3.0 , PageChange , NW 1.0 , ...   \n",
       "2           2      390  ['PageChange , SW 1.0 , SE 6.0 , PageChange , ...   \n",
       "3           3      376  ['NE 1.0 , SW 1.0 , PageChange , SW 4.0 , Page...   \n",
       "4           4      374  ['SW 2.0 , SE 2.0 , SE 2.0 , SE 2.0 , SW 2.0 ,...   \n",
       "\n",
       "  system  \n",
       "0     pc  \n",
       "1     pc  \n",
       "2     pc  \n",
       "3     pc  \n",
       "4     pc  "
      ]
     },
     "execution_count": 1,
     "metadata": {},
     "output_type": "execute_result"
    }
   ],
   "source": [
    "from devai import *\n",
    "import torch.nn as nn\n",
    "import pandas as pd\n",
    "import torch\n",
    "from torch import *\n",
    "import pdb\n",
    "\n",
    "df = pd.read_csv(\"dotin_data.csv\")\n",
    "\n",
    "df.head()"
   ]
  },
  {
   "cell_type": "code",
   "execution_count": 2,
   "metadata": {
    "ExecuteTime": {
     "end_time": "2019-12-03T01:44:27.463567Z",
     "start_time": "2019-12-03T01:44:27.270677Z"
    }
   },
   "outputs": [
    {
     "data": {
      "text/html": [
       "<div>\n",
       "<style scoped>\n",
       "    .dataframe tbody tr th:only-of-type {\n",
       "        vertical-align: middle;\n",
       "    }\n",
       "\n",
       "    .dataframe tbody tr th {\n",
       "        vertical-align: top;\n",
       "    }\n",
       "\n",
       "    .dataframe thead th {\n",
       "        text-align: right;\n",
       "    }\n",
       "</style>\n",
       "<table border=\"1\" class=\"dataframe\">\n",
       "  <thead>\n",
       "    <tr style=\"text-align: right;\">\n",
       "      <th></th>\n",
       "      <th>Unnamed: 0</th>\n",
       "      <th>user_id</th>\n",
       "      <th>direction_list</th>\n",
       "      <th>system</th>\n",
       "      <th>validation</th>\n",
       "    </tr>\n",
       "  </thead>\n",
       "  <tbody>\n",
       "    <tr>\n",
       "      <th>0</th>\n",
       "      <td>41</td>\n",
       "      <td>464</td>\n",
       "      <td>sw 2  ss 1  se 2  se 2  sw 2  se 2  pagechange...</td>\n",
       "      <td>pc</td>\n",
       "      <td>True</td>\n",
       "    </tr>\n",
       "    <tr>\n",
       "      <th>1</th>\n",
       "      <td>355</td>\n",
       "      <td>1375</td>\n",
       "      <td>se 3  sw 2  sw 2  ss 2  nw 2  se 2  se 2  page...</td>\n",
       "      <td>pc</td>\n",
       "      <td>True</td>\n",
       "    </tr>\n",
       "    <tr>\n",
       "      <th>2</th>\n",
       "      <td>307</td>\n",
       "      <td>1324</td>\n",
       "      <td>sw 1  se 2  sw 2  se 2  sw 2  nn 2  se 2  page...</td>\n",
       "      <td>pc</td>\n",
       "      <td>True</td>\n",
       "    </tr>\n",
       "    <tr>\n",
       "      <th>3</th>\n",
       "      <td>530</td>\n",
       "      <td>1686</td>\n",
       "      <td>sw 2  nw 2  ss 2  se 3  sw 2  se 2  sw 2  sw 2...</td>\n",
       "      <td>pc</td>\n",
       "      <td>False</td>\n",
       "    </tr>\n",
       "    <tr>\n",
       "      <th>4</th>\n",
       "      <td>547</td>\n",
       "      <td>1710</td>\n",
       "      <td>se 3  sw 1  ss 2  sw 3  se 2  sw 2  ne 3  se 2...</td>\n",
       "      <td>pc</td>\n",
       "      <td>True</td>\n",
       "    </tr>\n",
       "  </tbody>\n",
       "</table>\n",
       "</div>"
      ],
      "text/plain": [
       "   Unnamed: 0  user_id                                     direction_list  \\\n",
       "0          41      464  sw 2  ss 1  se 2  se 2  sw 2  se 2  pagechange...   \n",
       "1         355     1375  se 3  sw 2  sw 2  ss 2  nw 2  se 2  se 2  page...   \n",
       "2         307     1324  sw 1  se 2  sw 2  se 2  sw 2  nn 2  se 2  page...   \n",
       "3         530     1686  sw 2  nw 2  ss 2  se 3  sw 2  se 2  sw 2  sw 2...   \n",
       "4         547     1710  se 3  sw 1  ss 2  sw 3  se 2  sw 2  ne 3  se 2...   \n",
       "\n",
       "  system  validation  \n",
       "0     pc        True  \n",
       "1     pc        True  \n",
       "2     pc        True  \n",
       "3     pc       False  \n",
       "4     pc        True  "
      ]
     },
     "execution_count": 2,
     "metadata": {},
     "output_type": "execute_result"
    }
   ],
   "source": [
    "import re\n",
    "pat1 = re.compile(\"[.0]*[,\\[\\]\\']*\")\n",
    "df[\"direction_list\"] = df[\"direction_list\"].apply(lambda x: re.sub(pat1,\"\",x))\n",
    "df[\"direction_list\"] = df[\"direction_list\"].apply(lambda x: x.lower())\n",
    "\n",
    "validations = pd.read_csv(\"validations.csv\")\n",
    "\n",
    "df = df.merge(validations,on=\"user_id\")\n",
    "\n",
    "df = df.sample(frac=1,random_state=2019).reset_index(drop=True)\n",
    "split = round(len(df)-(.3*len(df)))\n",
    "train = df.loc[:split]\n",
    "val = df.loc[split:]\n",
    "\n",
    "df.head()"
   ]
  },
  {
   "cell_type": "code",
   "execution_count": 3,
   "metadata": {
    "ExecuteTime": {
     "end_time": "2019-12-03T01:44:27.468595Z",
     "start_time": "2019-12-03T01:44:27.465090Z"
    }
   },
   "outputs": [
    {
     "data": {
      "text/plain": [
       "['sw 2', 'ss 1', 'se 2', 'se 2', 'sw 2']"
      ]
     },
     "execution_count": 3,
     "metadata": {},
     "output_type": "execute_result"
    }
   ],
   "source": [
    "df[\"direction_list\"][0].split(\"  \")[:5]"
   ]
  },
  {
   "cell_type": "code",
   "execution_count": 4,
   "metadata": {
    "ExecuteTime": {
     "end_time": "2019-12-03T01:44:27.480363Z",
     "start_time": "2019-12-03T01:44:27.469547Z"
    }
   },
   "outputs": [],
   "source": [
    "bos = [0,0]\n",
    "eos = [500,15]\n",
    "pad = [370,11]"
   ]
  },
  {
   "cell_type": "code",
   "execution_count": 5,
   "metadata": {
    "ExecuteTime": {
     "end_time": "2019-12-03T01:44:27.486005Z",
     "start_time": "2019-12-03T01:44:27.481522Z"
    }
   },
   "outputs": [],
   "source": [
    "def to_tensor(idx):\n",
    "    dct = {\"ee\":0,\"se\":45,\"ss\":90,\"sw\":135,\"ww\":180,\"nw\":225,\"nn\":270,\"ne\":315}\n",
    "    x = [bos]\n",
    "    for i in df[\"direction_list\"][idx].split(\"  \"):\n",
    "        splt = i.split()\n",
    "        if len(splt) == 2 and len(splt[0])==2:\n",
    "            res = list(map(dct.get,[splt[0]]))\n",
    "            res.append(int(splt[1]))\n",
    "            x.append(res)\n",
    "        else:\n",
    "            x.append(pad)\n",
    "    return tensor(x+[eos])"
   ]
  },
  {
   "cell_type": "code",
   "execution_count": 6,
   "metadata": {
    "ExecuteTime": {
     "end_time": "2019-12-03T01:44:27.491783Z",
     "start_time": "2019-12-03T01:44:27.487321Z"
    }
   },
   "outputs": [],
   "source": [
    "class Movement:\n",
    "    def __init__(self,id,tensor): self.id,self.tensor = id,tensor \n",
    "    def get(self): return self.tensor\n",
    "    def __repr__(self): return str(self.tensor)\n",
    "    def __len__(self): return len(self.tensor)\n",
    "    def __getattr__(self,k): return getattr(self.tensor,k)\n",
    "    def __getitem__(self, idx): return self.tensor.item()"
   ]
  },
  {
   "cell_type": "code",
   "execution_count": 7,
   "metadata": {
    "ExecuteTime": {
     "end_time": "2019-12-03T01:44:27.634584Z",
     "start_time": "2019-12-03T01:44:27.493527Z"
    }
   },
   "outputs": [],
   "source": [
    "moves = [Movement(df[\"user_id\"][i],to_tensor(i)) for i in range(len(df))]\n",
    "il = ItemList(moves)\n",
    "sd = SplitData.split_by_func(il,partial(random_splitter,p_valid=.3))\n",
    "\n",
    "labels = {df[\"user_id\"][i]:df[\"validation\"][i] for i in range(len(df))}\n",
    "def id_labeller(mm): return labels[mm.id]\n",
    "\n",
    "ll = label_by_func(sd,id_labeller)"
   ]
  },
  {
   "cell_type": "code",
   "execution_count": 8,
   "metadata": {
    "ExecuteTime": {
     "end_time": "2019-12-03T01:44:27.646933Z",
     "start_time": "2019-12-03T01:44:27.636125Z"
    }
   },
   "outputs": [],
   "source": [
    "class LM_PreLoader():\n",
    "    def __init__(self, data, bs=64, bptt=70, shuffle=False):\n",
    "        self.data,self.bs,self.bptt,self.shuffle = data,bs,bptt,shuffle\n",
    "        total_len = sum([len(t) for t in data.x])\n",
    "        self.n_batch = total_len // bs\n",
    "        self.batchify()\n",
    "    \n",
    "    def __len__(self): return ((self.n_batch-1) // self.bptt) * self.bs\n",
    "    \n",
    "    def __getitem__(self, idx):\n",
    "        source = self.batched_data[idx % self.bs]\n",
    "        seq_idx = (idx // self.bs) * self.bptt\n",
    "        return source[seq_idx:seq_idx+self.bptt],source[seq_idx+1:seq_idx+self.bptt+1]\n",
    "    \n",
    "    def batchify(self):\n",
    "        tensors = self.data.x\n",
    "        if self.shuffle: tensors = tensors[torch.randperm(len(tensors))]\n",
    "        stream = torch.cat([t.tensor for t in tensors])\n",
    "        self.batched_data = stream[:self.n_batch * self.bs].view(self.bs, self.n_batch,2) # the 2 is for the two values per movement\n",
    "        "
   ]
  },
  {
   "cell_type": "code",
   "execution_count": 9,
   "metadata": {
    "ExecuteTime": {
     "end_time": "2019-12-03T01:44:27.658850Z",
     "start_time": "2019-12-03T01:44:27.648308Z"
    }
   },
   "outputs": [
    {
     "data": {
      "text/plain": [
       "(torch.Size([64, 70, 2]), torch.Size([64, 70, 2]))"
      ]
     },
     "execution_count": 9,
     "metadata": {},
     "output_type": "execute_result"
    }
   ],
   "source": [
    "dl = DataLoader(LM_PreLoader(ll.train, shuffle=True), batch_size=64)\n",
    "\n",
    "iter_dl = iter(dl)\n",
    "x1,y1 = next(iter_dl)\n",
    "x2,y2 = next(iter_dl)\n",
    "\n",
    "x1.size(),y1.size()"
   ]
  },
  {
   "cell_type": "code",
   "execution_count": 10,
   "metadata": {
    "ExecuteTime": {
     "end_time": "2019-12-03T01:44:27.666847Z",
     "start_time": "2019-12-03T01:44:27.660036Z"
    }
   },
   "outputs": [],
   "source": [
    "from torch.utils.data import DataLoader, SequentialSampler, RandomSampler\n",
    "def get_lm_dls(train_ds, valid_ds, bs, bptt, **kwargs):\n",
    "    return (DataLoader(LM_PreLoader(train_ds, bs, bptt, shuffle=True), batch_size=bs, **kwargs),\n",
    "            DataLoader(LM_PreLoader(valid_ds, bs, bptt, shuffle=False), batch_size=bs, **kwargs))\n",
    "\n",
    "\n",
    "def lm_databunchify(sd, bs, bptt, **kwargs):\n",
    "    return DataBunch(*get_lm_dls(sd.train, sd.valid, bs, bptt, **kwargs))\n",
    "\n",
    "bs,bptt = 64,70\n",
    "data = lm_databunchify(ll, bs, bptt)"
   ]
  },
  {
   "cell_type": "markdown",
   "metadata": {},
   "source": [
    "# LM Model"
   ]
  },
  {
   "cell_type": "code",
   "execution_count": 11,
   "metadata": {
    "ExecuteTime": {
     "end_time": "2019-12-03T01:44:27.673344Z",
     "start_time": "2019-12-03T01:44:27.668184Z"
    }
   },
   "outputs": [],
   "source": [
    "# class LSTM(nn.Module):\n",
    "#     def __init__(self):\n",
    "#         self.lstm1 = nn.LSTM(2, 50)  # Input dim is 3, output dim is 3\n",
    "#         self.lstm2 = nn.LSTM(50,2)\n",
    "\n",
    "# # initialize the hidden state.\n",
    "# hidden = (torch.randn(1, 1, 3),\n",
    "#           torch.randn(1, 1, 3))\n",
    "# for i in inputs:\n",
    "#     # Step through the sequence one element at a time.\n",
    "#     # after each step, hidden contains the hidden state.\n",
    "#     out, hidden = lstm(i.view(1, 1, -1), hidden)"
   ]
  },
  {
   "cell_type": "code",
   "execution_count": 12,
   "metadata": {
    "ExecuteTime": {
     "end_time": "2019-12-03T01:44:27.682011Z",
     "start_time": "2019-12-03T01:44:27.674479Z"
    }
   },
   "outputs": [],
   "source": [
    "class BatchNorm1dFlat(nn.BatchNorm1d):\n",
    "    \"`nn.BatchNorm1d`, but first flattens leading dimensions\"\n",
    "    def forward(self, x):\n",
    "        if x.dim()==2: return super().forward(x)\n",
    "        *f,l = x.shape\n",
    "        x = x.contiguous().view(-1,l)\n",
    "        return super().forward(x).view(*f,l)"
   ]
  },
  {
   "cell_type": "code",
   "execution_count": 13,
   "metadata": {
    "ExecuteTime": {
     "end_time": "2019-12-03T01:44:27.694600Z",
     "start_time": "2019-12-03T01:44:27.683109Z"
    }
   },
   "outputs": [
    {
     "data": {
      "text/plain": [
       "torch.Size([1, 51, 50])"
      ]
     },
     "execution_count": 13,
     "metadata": {},
     "output_type": "execute_result"
    }
   ],
   "source": [
    "wq = torch.rand(1,64,50); wq[:,13:].shape"
   ]
  },
  {
   "cell_type": "code",
   "execution_count": 14,
   "metadata": {
    "ExecuteTime": {
     "end_time": "2019-12-03T01:44:27.703618Z",
     "start_time": "2019-12-03T01:44:27.695635Z"
    }
   },
   "outputs": [
    {
     "data": {
      "text/plain": [
       "torch.Size([1, 64, 50])"
      ]
     },
     "execution_count": 14,
     "metadata": {},
     "output_type": "execute_result"
    }
   ],
   "source": [
    "torch.cat((wq[:,13:],torch.rand(1,13,50)),dim=1).shape"
   ]
  },
  {
   "cell_type": "code",
   "execution_count": 15,
   "metadata": {
    "ExecuteTime": {
     "end_time": "2019-12-03T01:44:27.712640Z",
     "start_time": "2019-12-03T01:44:27.704668Z"
    }
   },
   "outputs": [],
   "source": [
    "class GRU(nn.Module):\n",
    "    def __init__(self,nv,nh,nl,bs):\n",
    "        super().__init__()\n",
    "        self.bs = bs\n",
    "        self.rnn = nn.GRU(nv, nh, nl, batch_first=True)\n",
    "        self.h = torch.zeros(nl, bs, nh).cuda()\n",
    "        \n",
    "    def forward(self, x):\n",
    "        bs,sl,*_ = x.shape\n",
    "        \n",
    "        # working with shorter batch\n",
    "        if bs < self.bs: \n",
    "            res, h = self.rnn(x,self.h[:,-bs:].contiguous())\n",
    "            self.h = torch.cat((self.h[:,bs:],h.detach()),dim=1)\n",
    "        else:\n",
    "            res,h = self.rnn(x, self.h)\n",
    "            self.h = h.detach()\n",
    "        return res,h\n",
    "    \n",
    "\n",
    "class LinearDecoder(nn.Module):\n",
    "    def __init__(self, nv, nh ,lm=True):\n",
    "        super().__init__()\n",
    "        self.h_o = nn.Linear(nh,nv)\n",
    "        self.lm = lm\n",
    "\n",
    "    def forward(self, x):\n",
    "        return self.h_o(x[0]) if self.lm else self.h_o(x[1])[0]"
   ]
  },
  {
   "cell_type": "code",
   "execution_count": 16,
   "metadata": {
    "ExecuteTime": {
     "end_time": "2019-12-03T01:44:28.874293Z",
     "start_time": "2019-12-03T01:44:27.713931Z"
    }
   },
   "outputs": [],
   "source": [
    "m,s = x1.float().mean((0,1)), x1.float().std((0,1)); m,s\n",
    "\n",
    "def normalize_feat(x, mean, std):\n",
    "    return (x.float()-mean)/std\n",
    "\n",
    "class BatchTransformYCallback(Callback):\n",
    "    _order=2\n",
    "    def __init__(self, tfm): self.tfm = tfm\n",
    "    def after_pred(self): self.run.yb = self.tfm(self.yb)\n",
    "\n",
    "def MSE(outp,targ): return (outp-targ).pow(2)\n",
    "def MSE_combined(outp,targ): return MSE(outp,targ).mean((0,1)).sum()\n",
    "def MSE_scaled_dir(outp,targ,feat_idx=0,mean=m.cuda(),std=s.cuda()): \n",
    "    return (MSE(outp,targ).mean((0,1))*std + mean)[0]\n",
    "def MSE_scaled_mag(outp,targ,feat_idx=0,mean=m.cuda(),std=s.cuda()): \n",
    "    return (MSE(outp,targ).mean((0,1))*std + mean)[1]"
   ]
  },
  {
   "cell_type": "code",
   "execution_count": 17,
   "metadata": {
    "ExecuteTime": {
     "end_time": "2019-12-03T01:44:28.880743Z",
     "start_time": "2019-12-03T01:44:28.875513Z"
    }
   },
   "outputs": [],
   "source": [
    "norm_dotin = partial(normalize_feat,mean=m.cuda(),std=s.cuda())\n",
    "cbfs = [partial(AvgStatsCallback,[MSE_scaled_dir,MSE_scaled_mag]),\n",
    "        CudaCallback,\n",
    "        partial(BatchTransformXCallback, norm_dotin),\n",
    "        partial(BatchTransformYCallback, norm_dotin),\n",
    "       ProgressCallback]\n",
    "\n",
    "lm_model = nn.Sequential(GRU(2,50,3,bs),LinearDecoder(2,50),BatchNorm1dFlat(2))\n",
    "\n",
    "learn = Learner(lm_model,data,MSE_combined,cb_funcs=cbfs,lr=.02)"
   ]
  },
  {
   "cell_type": "code",
   "execution_count": 18,
   "metadata": {
    "ExecuteTime": {
     "end_time": "2019-12-03T01:44:30.924077Z",
     "start_time": "2019-12-03T01:44:28.881893Z"
    },
    "scrolled": true
   },
   "outputs": [
    {
     "data": {
      "text/html": [
       "<table border=\"1\" class=\"dataframe\">\n",
       "  <thead>\n",
       "    <tr style=\"text-align: left;\">\n",
       "      <th>epoch</th>\n",
       "      <th>train_loss</th>\n",
       "      <th>train_MSE_scaled_dir</th>\n",
       "      <th>train_MSE_scaled_mag</th>\n",
       "      <th>valid_loss</th>\n",
       "      <th>valid_MSE_scaled_dir</th>\n",
       "      <th>valid_MSE_scaled_mag</th>\n",
       "      <th>time</th>\n",
       "    </tr>\n",
       "  </thead>\n",
       "  <tbody>\n",
       "    <tr>\n",
       "      <td>0</td>\n",
       "      <td>2.594610</td>\n",
       "      <td>293.552979</td>\n",
       "      <td>6.910175</td>\n",
       "      <td>1.977680</td>\n",
       "      <td>254.229248</td>\n",
       "      <td>6.188035</td>\n",
       "      <td>00:00</td>\n",
       "    </tr>\n",
       "    <tr>\n",
       "      <td>1</td>\n",
       "      <td>1.940071</td>\n",
       "      <td>256.651825</td>\n",
       "      <td>6.018651</td>\n",
       "      <td>1.960636</td>\n",
       "      <td>253.791534</td>\n",
       "      <td>6.151214</td>\n",
       "      <td>00:00</td>\n",
       "    </tr>\n",
       "    <tr>\n",
       "      <td>2</td>\n",
       "      <td>1.814799</td>\n",
       "      <td>249.777649</td>\n",
       "      <td>5.843126</td>\n",
       "      <td>1.923908</td>\n",
       "      <td>252.672729</td>\n",
       "      <td>6.076431</td>\n",
       "      <td>00:00</td>\n",
       "    </tr>\n",
       "    <tr>\n",
       "      <td>3</td>\n",
       "      <td>1.783854</td>\n",
       "      <td>247.895615</td>\n",
       "      <td>5.804549</td>\n",
       "      <td>1.866994</td>\n",
       "      <td>250.889221</td>\n",
       "      <td>5.961843</td>\n",
       "      <td>00:00</td>\n",
       "    </tr>\n",
       "    <tr>\n",
       "      <td>4</td>\n",
       "      <td>1.783097</td>\n",
       "      <td>247.842773</td>\n",
       "      <td>5.803783</td>\n",
       "      <td>1.857516</td>\n",
       "      <td>249.760727</td>\n",
       "      <td>5.964387</td>\n",
       "      <td>00:00</td>\n",
       "    </tr>\n",
       "    <tr>\n",
       "      <td>5</td>\n",
       "      <td>1.777419</td>\n",
       "      <td>247.520126</td>\n",
       "      <td>5.796115</td>\n",
       "      <td>1.883115</td>\n",
       "      <td>250.540695</td>\n",
       "      <td>6.016505</td>\n",
       "      <td>00:00</td>\n",
       "    </tr>\n",
       "    <tr>\n",
       "      <td>6</td>\n",
       "      <td>1.774448</td>\n",
       "      <td>247.361389</td>\n",
       "      <td>5.791842</td>\n",
       "      <td>1.884763</td>\n",
       "      <td>250.765076</td>\n",
       "      <td>6.015330</td>\n",
       "      <td>00:00</td>\n",
       "    </tr>\n",
       "    <tr>\n",
       "      <td>7</td>\n",
       "      <td>1.772298</td>\n",
       "      <td>247.251633</td>\n",
       "      <td>5.788613</td>\n",
       "      <td>1.876366</td>\n",
       "      <td>250.526611</td>\n",
       "      <td>5.997781</td>\n",
       "      <td>00:00</td>\n",
       "    </tr>\n",
       "    <tr>\n",
       "      <td>8</td>\n",
       "      <td>1.770467</td>\n",
       "      <td>247.161484</td>\n",
       "      <td>5.785780</td>\n",
       "      <td>1.866953</td>\n",
       "      <td>250.218170</td>\n",
       "      <td>5.979181</td>\n",
       "      <td>00:00</td>\n",
       "    </tr>\n",
       "    <tr>\n",
       "      <td>9</td>\n",
       "      <td>1.768763</td>\n",
       "      <td>247.079620</td>\n",
       "      <td>5.783088</td>\n",
       "      <td>1.857525</td>\n",
       "      <td>249.891235</td>\n",
       "      <td>5.961017</td>\n",
       "      <td>00:00</td>\n",
       "    </tr>\n",
       "  </tbody>\n",
       "</table>"
      ],
      "text/plain": [
       "<IPython.core.display.HTML object>"
      ]
     },
     "metadata": {},
     "output_type": "display_data"
    }
   ],
   "source": [
    "learn.fit(10)"
   ]
  },
  {
   "cell_type": "code",
   "execution_count": 19,
   "metadata": {
    "ExecuteTime": {
     "end_time": "2019-12-03T01:44:30.928125Z",
     "start_time": "2019-12-03T01:44:30.925324Z"
    }
   },
   "outputs": [],
   "source": [
    "# saving the model\n",
    "st = learn.model.state_dict()\n",
    "torch.save(st, \"dotin_lm\")"
   ]
  },
  {
   "cell_type": "markdown",
   "metadata": {},
   "source": [
    "# Loading Classification Data"
   ]
  },
  {
   "cell_type": "code",
   "execution_count": 20,
   "metadata": {
    "ExecuteTime": {
     "end_time": "2019-12-03T01:44:31.081384Z",
     "start_time": "2019-12-03T01:44:30.929089Z"
    }
   },
   "outputs": [],
   "source": [
    "moves = [Movement(df[\"user_id\"][i],to_tensor(i)) for i in range(len(df))]\n",
    "il = ItemList(moves)\n",
    "sd = SplitData.split_by_func(il,partial(random_splitter,p_valid=.3))\n",
    "\n",
    "labels = {df[\"user_id\"][i]:df[\"validation\"][i] for i in range(len(df))}\n",
    "def id_labeller(mm): return labels[mm.id]\n",
    "\n",
    "proc_cat = CategoryProcessor()\n",
    "ll = label_by_func(sd,id_labeller,proc_y=proc_cat)"
   ]
  },
  {
   "cell_type": "code",
   "execution_count": 21,
   "metadata": {
    "ExecuteTime": {
     "end_time": "2019-12-03T01:44:31.096587Z",
     "start_time": "2019-12-03T01:44:31.082551Z"
    }
   },
   "outputs": [],
   "source": [
    "from torch.utils.data import Sampler\n",
    "\n",
    "class SortSampler(Sampler):\n",
    "    def __init__(self, data_source, key): self.data_source,self.key = data_source,key\n",
    "    def __len__(self): return len(self.data_source)\n",
    "    def __iter__(self):\n",
    "        return iter(sorted(list(range(len(self.data_source))), key=self.key, reverse=True))"
   ]
  },
  {
   "cell_type": "code",
   "execution_count": 22,
   "metadata": {
    "ExecuteTime": {
     "end_time": "2019-12-03T01:44:31.106335Z",
     "start_time": "2019-12-03T01:44:31.098552Z"
    }
   },
   "outputs": [],
   "source": [
    "class SortishSampler(Sampler):\n",
    "    def __init__(self, data_source, key, bs):\n",
    "        self.data_source,self.key,self.bs = data_source,key,bs\n",
    "\n",
    "    def __len__(self) -> int: return len(self.data_source)\n",
    "\n",
    "    def __iter__(self):\n",
    "        idxs = torch.randperm(len(self.data_source))\n",
    "        megabatches = [idxs[i:i+self.bs*50] for i in range(0, len(idxs), self.bs*50)]\n",
    "        sorted_idx = torch.cat([tensor(sorted(s, key=self.key, reverse=True)) for s in megabatches])\n",
    "        batches = [sorted_idx[i:i+self.bs] for i in range(0, len(sorted_idx), self.bs)]\n",
    "        max_idx = torch.argmax(tensor([self.key(ck[0]) for ck in batches]))  # find the chunk with the largest key,\n",
    "        batches[0],batches[max_idx] = batches[max_idx],batches[0]            # then make sure it goes first.\n",
    "        batch_idxs = torch.randperm(len(batches)-2)\n",
    "        sorted_idx = torch.cat([batches[i+1] for i in batch_idxs]) if len(batches) > 1 else LongTensor([])\n",
    "        sorted_idx = torch.cat([batches[0], sorted_idx, batches[-1]])\n",
    "        return iter(sorted_idx)"
   ]
  },
  {
   "cell_type": "code",
   "execution_count": 23,
   "metadata": {
    "ExecuteTime": {
     "end_time": "2019-12-03T01:44:31.118220Z",
     "start_time": "2019-12-03T01:44:31.107497Z"
    }
   },
   "outputs": [],
   "source": [
    "def pad_collate_emb(samples, pad_emb=pad, pad_first=False):\n",
    "    max_len = max([len(s[0]) for s in samples])\n",
    "    res = torch.zeros(len(samples), max_len, 2) + torch.tensor(pad_emb).float() \n",
    "    for i,s in enumerate(samples):\n",
    "        if pad_first: res[i, -len(s[0]):] = s[0].tensor\n",
    "        else:         res[i, :len(s[0])] = s[0].tensor\n",
    "    return res, tensor([s[1] for s in samples])"
   ]
  },
  {
   "cell_type": "code",
   "execution_count": 24,
   "metadata": {
    "ExecuteTime": {
     "end_time": "2019-12-03T01:44:31.127726Z",
     "start_time": "2019-12-03T01:44:31.119286Z"
    }
   },
   "outputs": [],
   "source": [
    "bs = 64\n",
    "train_sampler = SortishSampler(ll.train.x, key=lambda t: len(ll.train[int(t)][0]),bs=bs)\n",
    "train_dl = DataLoader(ll.train, batch_size=bs, sampler=train_sampler, collate_fn=pad_collate_emb)\n",
    "\n",
    "valid_sampler = SortSampler(ll.valid.x,key=lambda t: len(ll.train[int(t)][0]))\n",
    "valid_dl = DataLoader(ll.valid,batch_size=bs,sampler=valid_sampler, collate_fn=pad_collate_emb)"
   ]
  },
  {
   "cell_type": "code",
   "execution_count": 25,
   "metadata": {
    "ExecuteTime": {
     "end_time": "2019-12-03T01:44:31.140544Z",
     "start_time": "2019-12-03T01:44:31.128733Z"
    }
   },
   "outputs": [],
   "source": [
    "iter_dl = iter(train_dl)\n",
    "x,y = next(iter_dl)\n",
    "x2,y2 = next(iter_dl)"
   ]
  },
  {
   "cell_type": "code",
   "execution_count": 26,
   "metadata": {
    "ExecuteTime": {
     "end_time": "2019-12-03T01:44:31.144386Z",
     "start_time": "2019-12-03T01:44:31.141581Z"
    }
   },
   "outputs": [
    {
     "data": {
      "text/plain": [
       "(torch.Size([64, 277, 2]), torch.Size([64, 159, 2]))"
      ]
     },
     "execution_count": 26,
     "metadata": {},
     "output_type": "execute_result"
    }
   ],
   "source": [
    "x.shape,x2.shape # notice these are different"
   ]
  },
  {
   "cell_type": "code",
   "execution_count": 27,
   "metadata": {
    "ExecuteTime": {
     "end_time": "2019-12-03T01:44:31.149530Z",
     "start_time": "2019-12-03T01:44:31.145427Z"
    }
   },
   "outputs": [],
   "source": [
    "data = DataBunch(train_dl,valid_dl,c_out=2)"
   ]
  },
  {
   "cell_type": "markdown",
   "metadata": {},
   "source": [
    "# Classification Model"
   ]
  },
  {
   "cell_type": "code",
   "execution_count": 28,
   "metadata": {
    "ExecuteTime": {
     "end_time": "2019-12-03T01:44:31.155065Z",
     "start_time": "2019-12-03T01:44:31.150609Z"
    }
   },
   "outputs": [],
   "source": [
    "norm_dotin = partial(normalize_feat,mean=m.cuda(),std=s.cuda())\n",
    "cbfs = [partial(AvgStatsCallback,accuracy),\n",
    "        CudaCallback,\n",
    "        partial(BatchTransformXCallback, norm_dotin),\n",
    "       ProgressCallback]"
   ]
  },
  {
   "cell_type": "code",
   "execution_count": 29,
   "metadata": {
    "ExecuteTime": {
     "end_time": "2019-12-03T01:44:31.161494Z",
     "start_time": "2019-12-03T01:44:31.156088Z"
    }
   },
   "outputs": [],
   "source": [
    "# loading the previous model\n",
    "learn = Learner(lm_model, data, loss_func=F.cross_entropy,cb_funcs=cbfs,lr=.001)"
   ]
  },
  {
   "cell_type": "code",
   "execution_count": 30,
   "metadata": {
    "ExecuteTime": {
     "end_time": "2019-12-03T01:44:31.168594Z",
     "start_time": "2019-12-03T01:44:31.162591Z"
    }
   },
   "outputs": [
    {
     "data": {
      "text/plain": [
       "<All keys matched successfully>"
      ]
     },
     "execution_count": 30,
     "metadata": {},
     "output_type": "execute_result"
    }
   ],
   "source": [
    "st = torch.load(\"dotin_lm\")\n",
    "learn.model.load_state_dict(st)"
   ]
  },
  {
   "cell_type": "code",
   "execution_count": 31,
   "metadata": {
    "ExecuteTime": {
     "end_time": "2019-12-03T01:44:31.174446Z",
     "start_time": "2019-12-03T01:44:31.169805Z"
    }
   },
   "outputs": [],
   "source": [
    "# cutting off old model\n",
    "learn.model = learn.model[:1] # 1 is the cut off since we only want to export the GRU"
   ]
  },
  {
   "cell_type": "code",
   "execution_count": 32,
   "metadata": {
    "ExecuteTime": {
     "end_time": "2019-12-03T01:44:31.183412Z",
     "start_time": "2019-12-03T01:44:31.175530Z"
    }
   },
   "outputs": [],
   "source": [
    "learn.model.add_module(\"1\",LinearDecoder(2,50,lm=False))\n",
    "learn.model.add_module(\"2\",BatchNorm1dFlat(2))"
   ]
  },
  {
   "cell_type": "code",
   "execution_count": 33,
   "metadata": {
    "ExecuteTime": {
     "end_time": "2019-12-03T01:44:31.191518Z",
     "start_time": "2019-12-03T01:44:31.184509Z"
    }
   },
   "outputs": [],
   "source": [
    "for p in learn.model[0].parameters(): p.requires_grad_(False) # model[0] is m_cut (our base model from previous example)\n",
    "    "
   ]
  },
  {
   "cell_type": "code",
   "execution_count": 34,
   "metadata": {
    "ExecuteTime": {
     "end_time": "2019-12-03T01:44:31.200802Z",
     "start_time": "2019-12-03T01:44:31.192602Z"
    }
   },
   "outputs": [
    {
     "data": {
      "text/plain": [
       "6"
      ]
     },
     "execution_count": 34,
     "metadata": {},
     "output_type": "execute_result"
    }
   ],
   "source": [
    "len(data.train_ds) % 64"
   ]
  },
  {
   "cell_type": "code",
   "execution_count": 35,
   "metadata": {
    "ExecuteTime": {
     "end_time": "2019-12-03T01:44:40.983679Z",
     "start_time": "2019-12-03T01:44:31.201921Z"
    }
   },
   "outputs": [
    {
     "data": {
      "text/html": [
       "<table border=\"1\" class=\"dataframe\">\n",
       "  <thead>\n",
       "    <tr style=\"text-align: left;\">\n",
       "      <th>epoch</th>\n",
       "      <th>train_loss</th>\n",
       "      <th>train_accuracy</th>\n",
       "      <th>valid_loss</th>\n",
       "      <th>valid_accuracy</th>\n",
       "      <th>time</th>\n",
       "    </tr>\n",
       "  </thead>\n",
       "  <tbody>\n",
       "    <tr>\n",
       "      <td>0</td>\n",
       "      <td>0.990416</td>\n",
       "      <td>0.405286</td>\n",
       "      <td>0.711054</td>\n",
       "      <td>0.289216</td>\n",
       "      <td>00:00</td>\n",
       "    </tr>\n",
       "    <tr>\n",
       "      <td>1</td>\n",
       "      <td>0.976260</td>\n",
       "      <td>0.409692</td>\n",
       "      <td>0.700201</td>\n",
       "      <td>0.289216</td>\n",
       "      <td>00:00</td>\n",
       "    </tr>\n",
       "    <tr>\n",
       "      <td>2</td>\n",
       "      <td>0.923600</td>\n",
       "      <td>0.396476</td>\n",
       "      <td>0.678752</td>\n",
       "      <td>0.735294</td>\n",
       "      <td>00:00</td>\n",
       "    </tr>\n",
       "    <tr>\n",
       "      <td>3</td>\n",
       "      <td>0.795008</td>\n",
       "      <td>0.403084</td>\n",
       "      <td>0.673587</td>\n",
       "      <td>0.735294</td>\n",
       "      <td>00:00</td>\n",
       "    </tr>\n",
       "    <tr>\n",
       "      <td>4</td>\n",
       "      <td>0.765222</td>\n",
       "      <td>0.398678</td>\n",
       "      <td>0.676990</td>\n",
       "      <td>0.735294</td>\n",
       "      <td>00:00</td>\n",
       "    </tr>\n",
       "    <tr>\n",
       "      <td>5</td>\n",
       "      <td>0.744197</td>\n",
       "      <td>0.411894</td>\n",
       "      <td>0.685798</td>\n",
       "      <td>0.735294</td>\n",
       "      <td>00:00</td>\n",
       "    </tr>\n",
       "    <tr>\n",
       "      <td>6</td>\n",
       "      <td>0.739224</td>\n",
       "      <td>0.403084</td>\n",
       "      <td>0.698524</td>\n",
       "      <td>0.299020</td>\n",
       "      <td>00:00</td>\n",
       "    </tr>\n",
       "    <tr>\n",
       "      <td>7</td>\n",
       "      <td>0.729831</td>\n",
       "      <td>0.416300</td>\n",
       "      <td>0.704079</td>\n",
       "      <td>0.289216</td>\n",
       "      <td>00:00</td>\n",
       "    </tr>\n",
       "    <tr>\n",
       "      <td>8</td>\n",
       "      <td>0.717617</td>\n",
       "      <td>0.416300</td>\n",
       "      <td>0.713675</td>\n",
       "      <td>0.289216</td>\n",
       "      <td>00:00</td>\n",
       "    </tr>\n",
       "    <tr>\n",
       "      <td>9</td>\n",
       "      <td>0.723138</td>\n",
       "      <td>0.403084</td>\n",
       "      <td>0.719091</td>\n",
       "      <td>0.279412</td>\n",
       "      <td>00:00</td>\n",
       "    </tr>\n",
       "    <tr>\n",
       "      <td>10</td>\n",
       "      <td>0.715636</td>\n",
       "      <td>0.400881</td>\n",
       "      <td>0.720425</td>\n",
       "      <td>0.279412</td>\n",
       "      <td>00:00</td>\n",
       "    </tr>\n",
       "    <tr>\n",
       "      <td>11</td>\n",
       "      <td>0.711767</td>\n",
       "      <td>0.508811</td>\n",
       "      <td>0.724768</td>\n",
       "      <td>0.279412</td>\n",
       "      <td>00:00</td>\n",
       "    </tr>\n",
       "    <tr>\n",
       "      <td>12</td>\n",
       "      <td>0.715129</td>\n",
       "      <td>0.493392</td>\n",
       "      <td>0.729998</td>\n",
       "      <td>0.279412</td>\n",
       "      <td>00:00</td>\n",
       "    </tr>\n",
       "    <tr>\n",
       "      <td>13</td>\n",
       "      <td>0.707102</td>\n",
       "      <td>0.515418</td>\n",
       "      <td>0.738934</td>\n",
       "      <td>0.279412</td>\n",
       "      <td>00:00</td>\n",
       "    </tr>\n",
       "    <tr>\n",
       "      <td>14</td>\n",
       "      <td>0.704738</td>\n",
       "      <td>0.522026</td>\n",
       "      <td>0.735513</td>\n",
       "      <td>0.279412</td>\n",
       "      <td>00:00</td>\n",
       "    </tr>\n",
       "    <tr>\n",
       "      <td>15</td>\n",
       "      <td>0.707002</td>\n",
       "      <td>0.533040</td>\n",
       "      <td>0.732047</td>\n",
       "      <td>0.279412</td>\n",
       "      <td>00:00</td>\n",
       "    </tr>\n",
       "    <tr>\n",
       "      <td>16</td>\n",
       "      <td>0.701681</td>\n",
       "      <td>0.530837</td>\n",
       "      <td>0.734191</td>\n",
       "      <td>0.279412</td>\n",
       "      <td>00:00</td>\n",
       "    </tr>\n",
       "    <tr>\n",
       "      <td>17</td>\n",
       "      <td>0.700383</td>\n",
       "      <td>0.530837</td>\n",
       "      <td>0.732555</td>\n",
       "      <td>0.279412</td>\n",
       "      <td>00:00</td>\n",
       "    </tr>\n",
       "    <tr>\n",
       "      <td>18</td>\n",
       "      <td>0.700340</td>\n",
       "      <td>0.528634</td>\n",
       "      <td>0.729492</td>\n",
       "      <td>0.279412</td>\n",
       "      <td>00:00</td>\n",
       "    </tr>\n",
       "    <tr>\n",
       "      <td>19</td>\n",
       "      <td>0.701444</td>\n",
       "      <td>0.524229</td>\n",
       "      <td>0.740669</td>\n",
       "      <td>0.279412</td>\n",
       "      <td>00:00</td>\n",
       "    </tr>\n",
       "    <tr>\n",
       "      <td>20</td>\n",
       "      <td>0.694357</td>\n",
       "      <td>0.541850</td>\n",
       "      <td>0.735408</td>\n",
       "      <td>0.279412</td>\n",
       "      <td>00:00</td>\n",
       "    </tr>\n",
       "    <tr>\n",
       "      <td>21</td>\n",
       "      <td>0.696410</td>\n",
       "      <td>0.550661</td>\n",
       "      <td>0.734445</td>\n",
       "      <td>0.279412</td>\n",
       "      <td>00:00</td>\n",
       "    </tr>\n",
       "    <tr>\n",
       "      <td>22</td>\n",
       "      <td>0.695662</td>\n",
       "      <td>0.559471</td>\n",
       "      <td>0.722546</td>\n",
       "      <td>0.279412</td>\n",
       "      <td>00:00</td>\n",
       "    </tr>\n",
       "    <tr>\n",
       "      <td>23</td>\n",
       "      <td>0.693632</td>\n",
       "      <td>0.566079</td>\n",
       "      <td>0.724485</td>\n",
       "      <td>0.279412</td>\n",
       "      <td>00:00</td>\n",
       "    </tr>\n",
       "    <tr>\n",
       "      <td>24</td>\n",
       "      <td>0.693504</td>\n",
       "      <td>0.581498</td>\n",
       "      <td>0.726396</td>\n",
       "      <td>0.279412</td>\n",
       "      <td>00:00</td>\n",
       "    </tr>\n",
       "    <tr>\n",
       "      <td>25</td>\n",
       "      <td>0.693382</td>\n",
       "      <td>0.583700</td>\n",
       "      <td>0.724706</td>\n",
       "      <td>0.279412</td>\n",
       "      <td>00:00</td>\n",
       "    </tr>\n",
       "    <tr>\n",
       "      <td>26</td>\n",
       "      <td>0.694754</td>\n",
       "      <td>0.574890</td>\n",
       "      <td>0.731803</td>\n",
       "      <td>0.279412</td>\n",
       "      <td>00:00</td>\n",
       "    </tr>\n",
       "    <tr>\n",
       "      <td>27</td>\n",
       "      <td>0.689873</td>\n",
       "      <td>0.579295</td>\n",
       "      <td>0.724320</td>\n",
       "      <td>0.279412</td>\n",
       "      <td>00:00</td>\n",
       "    </tr>\n",
       "    <tr>\n",
       "      <td>28</td>\n",
       "      <td>0.688220</td>\n",
       "      <td>0.590308</td>\n",
       "      <td>0.721030</td>\n",
       "      <td>0.279412</td>\n",
       "      <td>00:00</td>\n",
       "    </tr>\n",
       "    <tr>\n",
       "      <td>29</td>\n",
       "      <td>0.688696</td>\n",
       "      <td>0.592511</td>\n",
       "      <td>0.725199</td>\n",
       "      <td>0.279412</td>\n",
       "      <td>00:00</td>\n",
       "    </tr>\n",
       "    <tr>\n",
       "      <td>30</td>\n",
       "      <td>0.687617</td>\n",
       "      <td>0.601322</td>\n",
       "      <td>0.718451</td>\n",
       "      <td>0.279412</td>\n",
       "      <td>00:00</td>\n",
       "    </tr>\n",
       "    <tr>\n",
       "      <td>31</td>\n",
       "      <td>0.686539</td>\n",
       "      <td>0.599119</td>\n",
       "      <td>0.717605</td>\n",
       "      <td>0.279412</td>\n",
       "      <td>00:00</td>\n",
       "    </tr>\n",
       "    <tr>\n",
       "      <td>32</td>\n",
       "      <td>0.684202</td>\n",
       "      <td>0.612335</td>\n",
       "      <td>0.712722</td>\n",
       "      <td>0.279412</td>\n",
       "      <td>00:00</td>\n",
       "    </tr>\n",
       "    <tr>\n",
       "      <td>33</td>\n",
       "      <td>0.681484</td>\n",
       "      <td>0.634361</td>\n",
       "      <td>0.703381</td>\n",
       "      <td>0.279412</td>\n",
       "      <td>00:00</td>\n",
       "    </tr>\n",
       "    <tr>\n",
       "      <td>34</td>\n",
       "      <td>0.682206</td>\n",
       "      <td>0.651982</td>\n",
       "      <td>0.706858</td>\n",
       "      <td>0.279412</td>\n",
       "      <td>00:00</td>\n",
       "    </tr>\n",
       "    <tr>\n",
       "      <td>35</td>\n",
       "      <td>0.682534</td>\n",
       "      <td>0.647577</td>\n",
       "      <td>0.713254</td>\n",
       "      <td>0.279412</td>\n",
       "      <td>00:00</td>\n",
       "    </tr>\n",
       "    <tr>\n",
       "      <td>36</td>\n",
       "      <td>0.680390</td>\n",
       "      <td>0.638766</td>\n",
       "      <td>0.709443</td>\n",
       "      <td>0.279412</td>\n",
       "      <td>00:00</td>\n",
       "    </tr>\n",
       "    <tr>\n",
       "      <td>37</td>\n",
       "      <td>0.681407</td>\n",
       "      <td>0.645374</td>\n",
       "      <td>0.701755</td>\n",
       "      <td>0.279412</td>\n",
       "      <td>00:00</td>\n",
       "    </tr>\n",
       "    <tr>\n",
       "      <td>38</td>\n",
       "      <td>0.679050</td>\n",
       "      <td>0.645374</td>\n",
       "      <td>0.696278</td>\n",
       "      <td>0.289216</td>\n",
       "      <td>00:00</td>\n",
       "    </tr>\n",
       "    <tr>\n",
       "      <td>39</td>\n",
       "      <td>0.680957</td>\n",
       "      <td>0.654185</td>\n",
       "      <td>0.702129</td>\n",
       "      <td>0.279412</td>\n",
       "      <td>00:00</td>\n",
       "    </tr>\n",
       "    <tr>\n",
       "      <td>40</td>\n",
       "      <td>0.675671</td>\n",
       "      <td>0.669603</td>\n",
       "      <td>0.696578</td>\n",
       "      <td>0.289216</td>\n",
       "      <td>00:00</td>\n",
       "    </tr>\n",
       "    <tr>\n",
       "      <td>41</td>\n",
       "      <td>0.676998</td>\n",
       "      <td>0.667401</td>\n",
       "      <td>0.694317</td>\n",
       "      <td>0.294118</td>\n",
       "      <td>00:00</td>\n",
       "    </tr>\n",
       "    <tr>\n",
       "      <td>42</td>\n",
       "      <td>0.675561</td>\n",
       "      <td>0.678414</td>\n",
       "      <td>0.694949</td>\n",
       "      <td>0.294118</td>\n",
       "      <td>00:00</td>\n",
       "    </tr>\n",
       "    <tr>\n",
       "      <td>43</td>\n",
       "      <td>0.675009</td>\n",
       "      <td>0.665198</td>\n",
       "      <td>0.692980</td>\n",
       "      <td>0.299020</td>\n",
       "      <td>00:00</td>\n",
       "    </tr>\n",
       "    <tr>\n",
       "      <td>44</td>\n",
       "      <td>0.675443</td>\n",
       "      <td>0.669603</td>\n",
       "      <td>0.688197</td>\n",
       "      <td>0.715686</td>\n",
       "      <td>00:00</td>\n",
       "    </tr>\n",
       "    <tr>\n",
       "      <td>45</td>\n",
       "      <td>0.671619</td>\n",
       "      <td>0.685022</td>\n",
       "      <td>0.684556</td>\n",
       "      <td>0.720588</td>\n",
       "      <td>00:00</td>\n",
       "    </tr>\n",
       "    <tr>\n",
       "      <td>46</td>\n",
       "      <td>0.672617</td>\n",
       "      <td>0.665198</td>\n",
       "      <td>0.684557</td>\n",
       "      <td>0.715686</td>\n",
       "      <td>00:00</td>\n",
       "    </tr>\n",
       "    <tr>\n",
       "      <td>47</td>\n",
       "      <td>0.673740</td>\n",
       "      <td>0.669603</td>\n",
       "      <td>0.690582</td>\n",
       "      <td>0.715686</td>\n",
       "      <td>00:00</td>\n",
       "    </tr>\n",
       "    <tr>\n",
       "      <td>48</td>\n",
       "      <td>0.671844</td>\n",
       "      <td>0.667401</td>\n",
       "      <td>0.693569</td>\n",
       "      <td>0.299020</td>\n",
       "      <td>00:00</td>\n",
       "    </tr>\n",
       "    <tr>\n",
       "      <td>49</td>\n",
       "      <td>0.671245</td>\n",
       "      <td>0.669603</td>\n",
       "      <td>0.692584</td>\n",
       "      <td>0.343137</td>\n",
       "      <td>00:00</td>\n",
       "    </tr>\n",
       "    <tr>\n",
       "      <td>50</td>\n",
       "      <td>0.670600</td>\n",
       "      <td>0.674009</td>\n",
       "      <td>0.689124</td>\n",
       "      <td>0.715686</td>\n",
       "      <td>00:00</td>\n",
       "    </tr>\n",
       "    <tr>\n",
       "      <td>51</td>\n",
       "      <td>0.670614</td>\n",
       "      <td>0.669603</td>\n",
       "      <td>0.693083</td>\n",
       "      <td>0.299020</td>\n",
       "      <td>00:00</td>\n",
       "    </tr>\n",
       "    <tr>\n",
       "      <td>52</td>\n",
       "      <td>0.667118</td>\n",
       "      <td>0.680617</td>\n",
       "      <td>0.687089</td>\n",
       "      <td>0.715686</td>\n",
       "      <td>00:00</td>\n",
       "    </tr>\n",
       "    <tr>\n",
       "      <td>53</td>\n",
       "      <td>0.667789</td>\n",
       "      <td>0.674009</td>\n",
       "      <td>0.681279</td>\n",
       "      <td>0.725490</td>\n",
       "      <td>00:00</td>\n",
       "    </tr>\n",
       "    <tr>\n",
       "      <td>54</td>\n",
       "      <td>0.668232</td>\n",
       "      <td>0.665198</td>\n",
       "      <td>0.678597</td>\n",
       "      <td>0.725490</td>\n",
       "      <td>00:00</td>\n",
       "    </tr>\n",
       "    <tr>\n",
       "      <td>55</td>\n",
       "      <td>0.668290</td>\n",
       "      <td>0.674009</td>\n",
       "      <td>0.678852</td>\n",
       "      <td>0.725490</td>\n",
       "      <td>00:00</td>\n",
       "    </tr>\n",
       "    <tr>\n",
       "      <td>56</td>\n",
       "      <td>0.667039</td>\n",
       "      <td>0.674009</td>\n",
       "      <td>0.675610</td>\n",
       "      <td>0.725490</td>\n",
       "      <td>00:00</td>\n",
       "    </tr>\n",
       "    <tr>\n",
       "      <td>57</td>\n",
       "      <td>0.665663</td>\n",
       "      <td>0.685022</td>\n",
       "      <td>0.674753</td>\n",
       "      <td>0.725490</td>\n",
       "      <td>00:00</td>\n",
       "    </tr>\n",
       "    <tr>\n",
       "      <td>58</td>\n",
       "      <td>0.665607</td>\n",
       "      <td>0.682819</td>\n",
       "      <td>0.671026</td>\n",
       "      <td>0.730392</td>\n",
       "      <td>00:00</td>\n",
       "    </tr>\n",
       "    <tr>\n",
       "      <td>59</td>\n",
       "      <td>0.664963</td>\n",
       "      <td>0.678414</td>\n",
       "      <td>0.675439</td>\n",
       "      <td>0.725490</td>\n",
       "      <td>00:00</td>\n",
       "    </tr>\n",
       "    <tr>\n",
       "      <td>60</td>\n",
       "      <td>0.663677</td>\n",
       "      <td>0.682819</td>\n",
       "      <td>0.673491</td>\n",
       "      <td>0.730392</td>\n",
       "      <td>00:00</td>\n",
       "    </tr>\n",
       "    <tr>\n",
       "      <td>61</td>\n",
       "      <td>0.663660</td>\n",
       "      <td>0.682819</td>\n",
       "      <td>0.675690</td>\n",
       "      <td>0.730392</td>\n",
       "      <td>00:00</td>\n",
       "    </tr>\n",
       "    <tr>\n",
       "      <td>62</td>\n",
       "      <td>0.662954</td>\n",
       "      <td>0.685022</td>\n",
       "      <td>0.669308</td>\n",
       "      <td>0.730392</td>\n",
       "      <td>00:00</td>\n",
       "    </tr>\n",
       "    <tr>\n",
       "      <td>63</td>\n",
       "      <td>0.661507</td>\n",
       "      <td>0.689427</td>\n",
       "      <td>0.666691</td>\n",
       "      <td>0.730392</td>\n",
       "      <td>00:00</td>\n",
       "    </tr>\n",
       "    <tr>\n",
       "      <td>64</td>\n",
       "      <td>0.658884</td>\n",
       "      <td>0.702643</td>\n",
       "      <td>0.666926</td>\n",
       "      <td>0.730392</td>\n",
       "      <td>00:00</td>\n",
       "    </tr>\n",
       "    <tr>\n",
       "      <td>65</td>\n",
       "      <td>0.660319</td>\n",
       "      <td>0.689427</td>\n",
       "      <td>0.668847</td>\n",
       "      <td>0.730392</td>\n",
       "      <td>00:00</td>\n",
       "    </tr>\n",
       "    <tr>\n",
       "      <td>66</td>\n",
       "      <td>0.660628</td>\n",
       "      <td>0.682819</td>\n",
       "      <td>0.665835</td>\n",
       "      <td>0.730392</td>\n",
       "      <td>00:00</td>\n",
       "    </tr>\n",
       "    <tr>\n",
       "      <td>67</td>\n",
       "      <td>0.661191</td>\n",
       "      <td>0.685022</td>\n",
       "      <td>0.667966</td>\n",
       "      <td>0.730392</td>\n",
       "      <td>00:00</td>\n",
       "    </tr>\n",
       "    <tr>\n",
       "      <td>68</td>\n",
       "      <td>0.659523</td>\n",
       "      <td>0.687225</td>\n",
       "      <td>0.662892</td>\n",
       "      <td>0.730392</td>\n",
       "      <td>00:00</td>\n",
       "    </tr>\n",
       "    <tr>\n",
       "      <td>69</td>\n",
       "      <td>0.658940</td>\n",
       "      <td>0.693833</td>\n",
       "      <td>0.660941</td>\n",
       "      <td>0.730392</td>\n",
       "      <td>00:00</td>\n",
       "    </tr>\n",
       "    <tr>\n",
       "      <td>70</td>\n",
       "      <td>0.657900</td>\n",
       "      <td>0.693833</td>\n",
       "      <td>0.661504</td>\n",
       "      <td>0.730392</td>\n",
       "      <td>00:00</td>\n",
       "    </tr>\n",
       "    <tr>\n",
       "      <td>71</td>\n",
       "      <td>0.657216</td>\n",
       "      <td>0.691630</td>\n",
       "      <td>0.660941</td>\n",
       "      <td>0.730392</td>\n",
       "      <td>00:00</td>\n",
       "    </tr>\n",
       "    <tr>\n",
       "      <td>72</td>\n",
       "      <td>0.655399</td>\n",
       "      <td>0.696035</td>\n",
       "      <td>0.657518</td>\n",
       "      <td>0.730392</td>\n",
       "      <td>00:00</td>\n",
       "    </tr>\n",
       "    <tr>\n",
       "      <td>73</td>\n",
       "      <td>0.655727</td>\n",
       "      <td>0.698238</td>\n",
       "      <td>0.660678</td>\n",
       "      <td>0.730392</td>\n",
       "      <td>00:00</td>\n",
       "    </tr>\n",
       "    <tr>\n",
       "      <td>74</td>\n",
       "      <td>0.653885</td>\n",
       "      <td>0.700441</td>\n",
       "      <td>0.662154</td>\n",
       "      <td>0.730392</td>\n",
       "      <td>00:00</td>\n",
       "    </tr>\n",
       "    <tr>\n",
       "      <td>75</td>\n",
       "      <td>0.655366</td>\n",
       "      <td>0.693833</td>\n",
       "      <td>0.655949</td>\n",
       "      <td>0.730392</td>\n",
       "      <td>00:00</td>\n",
       "    </tr>\n",
       "    <tr>\n",
       "      <td>76</td>\n",
       "      <td>0.654890</td>\n",
       "      <td>0.698238</td>\n",
       "      <td>0.655656</td>\n",
       "      <td>0.730392</td>\n",
       "      <td>00:00</td>\n",
       "    </tr>\n",
       "    <tr>\n",
       "      <td>77</td>\n",
       "      <td>0.654102</td>\n",
       "      <td>0.693833</td>\n",
       "      <td>0.653846</td>\n",
       "      <td>0.730392</td>\n",
       "      <td>00:00</td>\n",
       "    </tr>\n",
       "    <tr>\n",
       "      <td>78</td>\n",
       "      <td>0.653657</td>\n",
       "      <td>0.689427</td>\n",
       "      <td>0.651788</td>\n",
       "      <td>0.730392</td>\n",
       "      <td>00:00</td>\n",
       "    </tr>\n",
       "    <tr>\n",
       "      <td>79</td>\n",
       "      <td>0.652357</td>\n",
       "      <td>0.702643</td>\n",
       "      <td>0.652719</td>\n",
       "      <td>0.730392</td>\n",
       "      <td>00:00</td>\n",
       "    </tr>\n",
       "    <tr>\n",
       "      <td>80</td>\n",
       "      <td>0.653435</td>\n",
       "      <td>0.700441</td>\n",
       "      <td>0.653203</td>\n",
       "      <td>0.730392</td>\n",
       "      <td>00:00</td>\n",
       "    </tr>\n",
       "    <tr>\n",
       "      <td>81</td>\n",
       "      <td>0.651390</td>\n",
       "      <td>0.698238</td>\n",
       "      <td>0.656335</td>\n",
       "      <td>0.730392</td>\n",
       "      <td>00:00</td>\n",
       "    </tr>\n",
       "    <tr>\n",
       "      <td>82</td>\n",
       "      <td>0.651072</td>\n",
       "      <td>0.698238</td>\n",
       "      <td>0.654824</td>\n",
       "      <td>0.730392</td>\n",
       "      <td>00:00</td>\n",
       "    </tr>\n",
       "    <tr>\n",
       "      <td>83</td>\n",
       "      <td>0.650786</td>\n",
       "      <td>0.696035</td>\n",
       "      <td>0.654631</td>\n",
       "      <td>0.730392</td>\n",
       "      <td>00:00</td>\n",
       "    </tr>\n",
       "    <tr>\n",
       "      <td>84</td>\n",
       "      <td>0.650215</td>\n",
       "      <td>0.696035</td>\n",
       "      <td>0.650476</td>\n",
       "      <td>0.730392</td>\n",
       "      <td>00:00</td>\n",
       "    </tr>\n",
       "    <tr>\n",
       "      <td>85</td>\n",
       "      <td>0.650337</td>\n",
       "      <td>0.696035</td>\n",
       "      <td>0.647084</td>\n",
       "      <td>0.730392</td>\n",
       "      <td>00:00</td>\n",
       "    </tr>\n",
       "    <tr>\n",
       "      <td>86</td>\n",
       "      <td>0.650151</td>\n",
       "      <td>0.700441</td>\n",
       "      <td>0.651746</td>\n",
       "      <td>0.730392</td>\n",
       "      <td>00:00</td>\n",
       "    </tr>\n",
       "    <tr>\n",
       "      <td>87</td>\n",
       "      <td>0.649187</td>\n",
       "      <td>0.700441</td>\n",
       "      <td>0.649146</td>\n",
       "      <td>0.730392</td>\n",
       "      <td>00:00</td>\n",
       "    </tr>\n",
       "    <tr>\n",
       "      <td>88</td>\n",
       "      <td>0.648785</td>\n",
       "      <td>0.698238</td>\n",
       "      <td>0.650549</td>\n",
       "      <td>0.730392</td>\n",
       "      <td>00:00</td>\n",
       "    </tr>\n",
       "    <tr>\n",
       "      <td>89</td>\n",
       "      <td>0.647757</td>\n",
       "      <td>0.702643</td>\n",
       "      <td>0.645367</td>\n",
       "      <td>0.730392</td>\n",
       "      <td>00:00</td>\n",
       "    </tr>\n",
       "    <tr>\n",
       "      <td>90</td>\n",
       "      <td>0.647835</td>\n",
       "      <td>0.700441</td>\n",
       "      <td>0.645487</td>\n",
       "      <td>0.730392</td>\n",
       "      <td>00:00</td>\n",
       "    </tr>\n",
       "    <tr>\n",
       "      <td>91</td>\n",
       "      <td>0.648197</td>\n",
       "      <td>0.700441</td>\n",
       "      <td>0.645084</td>\n",
       "      <td>0.730392</td>\n",
       "      <td>00:00</td>\n",
       "    </tr>\n",
       "    <tr>\n",
       "      <td>92</td>\n",
       "      <td>0.646477</td>\n",
       "      <td>0.702643</td>\n",
       "      <td>0.645794</td>\n",
       "      <td>0.730392</td>\n",
       "      <td>00:00</td>\n",
       "    </tr>\n",
       "    <tr>\n",
       "      <td>93</td>\n",
       "      <td>0.646277</td>\n",
       "      <td>0.702643</td>\n",
       "      <td>0.643363</td>\n",
       "      <td>0.730392</td>\n",
       "      <td>00:00</td>\n",
       "    </tr>\n",
       "    <tr>\n",
       "      <td>94</td>\n",
       "      <td>0.646541</td>\n",
       "      <td>0.700441</td>\n",
       "      <td>0.644609</td>\n",
       "      <td>0.730392</td>\n",
       "      <td>00:00</td>\n",
       "    </tr>\n",
       "    <tr>\n",
       "      <td>95</td>\n",
       "      <td>0.645920</td>\n",
       "      <td>0.702643</td>\n",
       "      <td>0.645450</td>\n",
       "      <td>0.730392</td>\n",
       "      <td>00:00</td>\n",
       "    </tr>\n",
       "    <tr>\n",
       "      <td>96</td>\n",
       "      <td>0.646880</td>\n",
       "      <td>0.691630</td>\n",
       "      <td>0.642302</td>\n",
       "      <td>0.730392</td>\n",
       "      <td>00:00</td>\n",
       "    </tr>\n",
       "    <tr>\n",
       "      <td>97</td>\n",
       "      <td>0.644935</td>\n",
       "      <td>0.702643</td>\n",
       "      <td>0.637503</td>\n",
       "      <td>0.735294</td>\n",
       "      <td>00:00</td>\n",
       "    </tr>\n",
       "    <tr>\n",
       "      <td>98</td>\n",
       "      <td>0.645268</td>\n",
       "      <td>0.696035</td>\n",
       "      <td>0.638192</td>\n",
       "      <td>0.735294</td>\n",
       "      <td>00:00</td>\n",
       "    </tr>\n",
       "    <tr>\n",
       "      <td>99</td>\n",
       "      <td>0.643766</td>\n",
       "      <td>0.704846</td>\n",
       "      <td>0.637295</td>\n",
       "      <td>0.735294</td>\n",
       "      <td>00:00</td>\n",
       "    </tr>\n",
       "  </tbody>\n",
       "</table>"
      ],
      "text/plain": [
       "<IPython.core.display.HTML object>"
      ]
     },
     "metadata": {},
     "output_type": "display_data"
    }
   ],
   "source": [
    "learn.fit(100)"
   ]
  },
  {
   "cell_type": "code",
   "execution_count": 37,
   "metadata": {
    "ExecuteTime": {
     "end_time": "2019-12-03T01:44:41.000554Z",
     "start_time": "2019-12-03T01:44:40.988515Z"
    }
   },
   "outputs": [
    {
     "data": {
      "text/plain": [
       "tensor(0.7353)"
      ]
     },
     "execution_count": 37,
     "metadata": {},
     "output_type": "execute_result"
    }
   ],
   "source": [
    "1-torch.tensor(ll.valid.y.items).float().mean()"
   ]
  },
  {
   "cell_type": "code",
   "execution_count": 38,
   "metadata": {
    "ExecuteTime": {
     "end_time": "2019-12-03T01:44:54.146508Z",
     "start_time": "2019-12-03T01:44:54.140139Z"
    }
   },
   "outputs": [
    {
     "data": {
      "text/plain": [
       "tensor(0.7070)"
      ]
     },
     "execution_count": 38,
     "metadata": {},
     "output_type": "execute_result"
    }
   ],
   "source": [
    "1-torch.tensor(ll.train.y.items).float().mean()"
   ]
  },
  {
   "cell_type": "code",
   "execution_count": null,
   "metadata": {},
   "outputs": [],
   "source": []
  }
 ],
 "metadata": {
  "kernelspec": {
   "display_name": "Python 3",
   "language": "python",
   "name": "python3"
  },
  "language_info": {
   "codemirror_mode": {
    "name": "ipython",
    "version": 3
   },
   "file_extension": ".py",
   "mimetype": "text/x-python",
   "name": "python",
   "nbconvert_exporter": "python",
   "pygments_lexer": "ipython3",
   "version": "3.7.3"
  }
 },
 "nbformat": 4,
 "nbformat_minor": 2
}
